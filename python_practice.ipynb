{
  "nbformat": 4,
  "nbformat_minor": 0,
  "metadata": {
    "colab": {
      "provenance": [],
      "authorship_tag": "ABX9TyP8EEH9sYxT54exUZGoo88W",
      "include_colab_link": true
    },
    "kernelspec": {
      "name": "python3",
      "display_name": "Python 3"
    },
    "language_info": {
      "name": "python"
    }
  },
  "cells": [
    {
      "cell_type": "markdown",
      "metadata": {
        "id": "view-in-github",
        "colab_type": "text"
      },
      "source": [
        "<a href=\"https://colab.research.google.com/github/nooraalam1/Python_Crash/blob/main/python_practice.ipynb\" target=\"_parent\"><img src=\"https://colab.research.google.com/assets/colab-badge.svg\" alt=\"Open In Colab\"/></a>"
      ]
    },
    {
      "cell_type": "code",
      "execution_count": 9,
      "metadata": {
        "colab": {
          "base_uri": "https://localhost:8080/"
        },
        "id": "my_zCBhGGQqT",
        "outputId": "9506f7a9-d548-4019-a6ee-e662acabafe9"
      },
      "outputs": [
        {
          "output_type": "stream",
          "name": "stdout",
          "text": [
            "OPPO 15000\n",
            "Pink 15kmph\n"
          ]
        }
      ],
      "source": [
        "class Laptop:\n",
        "  def __init__(self,brand,price):\n",
        "    self.brand = brand\n",
        "    self.price = price\n",
        "\n",
        "class Car:\n",
        "  def __init__(self,color,speed):\n",
        "    self.color = color\n",
        "    self.speed = speed\n",
        "\n",
        "p1 = Laptop('OPPO',15000)\n",
        "p2 = Car('Pink','15kmph')\n",
        "\n",
        "print(p1.brand, p1.price)\n",
        "print(p2.color, p2.speed)"
      ]
    }
  ]
}